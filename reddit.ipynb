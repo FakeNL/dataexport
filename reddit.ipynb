{
 "cells": [
  {
   "cell_type": "code",
   "execution_count": 1,
   "metadata": {
    "collapsed": true
   },
   "outputs": [],
   "source": [
    "#Praw is the python API for reddit. \n",
    "import praw\n",
    "import requests\n",
    "import json\n",
    "import pprint"
   ]
  },
  {
   "cell_type": "code",
   "execution_count": 3,
   "metadata": {
    "collapsed": false
   },
   "outputs": [],
   "source": [
    "r = praw.Reddit(user_agent='Fake_NL')\n",
    "submissions = r.get_subreddit('scholar').get_new(limit = None)\n",
    "requested = []\n",
    "for x in submissions:\n",
    "    if 'Article' in str(x):\n",
    "        requested.append(str(x))\n",
    "#[str(x) for x in submissions]"
   ]
  },
  {
   "cell_type": "code",
   "execution_count": 4,
   "metadata": {
    "collapsed": false
   },
   "outputs": [],
   "source": [
    "title = 'http://api.crossref.org/works?query.title='\n",
    "urls = []\n",
    "for item in requested:\n",
    "    try:\n",
    "        index = item.index(']')\n",
    "        if '-' in item: \n",
    "            app_name = item[index+4:]\n",
    "        else: \n",
    "            app_name = item[index+2:]\n",
    "    except:\n",
    "        pass\n",
    "    urls.append(title + app_name.lower().replace(' ', \"+\") + '&rows=1')"
   ]
  },
  {
   "cell_type": "code",
   "execution_count": 5,
   "metadata": {
    "collapsed": true
   },
   "outputs": [],
   "source": [
    "biglist = []\n",
    "counter = 0"
   ]
  },
  {
   "cell_type": "code",
   "execution_count": 34,
   "metadata": {
    "collapsed": false
   },
   "outputs": [],
   "source": [
    "article = {}\n",
    "for item in urls[400:474]:\n",
    "    try:\n",
    "        resp = requests.get(url=item)\n",
    "        data = json.loads(resp.text)\n",
    "        article['title'] = data['message']['items'][0]['title']\n",
    "        article['url'] = data['message']['items'][0]['URL']\n",
    "        article['author'] = data['message']['items'][0]['author'][0]['family'] + ' ' + data['message']['items'][0]['author'][0]['given']\n",
    "        article['journal'] = data['message']['items'][0]['container-title']\n",
    "        article['date'] = data['message']['items'][0]['published-print']['date-parts']\n",
    "        article['publisher']=data['message']['items'][0]['publisher']\n",
    "        article['reference_count']=data['message']['items'][0]['reference-count']\n",
    "        article['score']=data['message']['items'][0]['score']\n",
    "        biglist.append(article)\n",
    "        article = {}\n",
    "    except: \n",
    "        continue"
   ]
  },
  {
   "cell_type": "code",
   "execution_count": 35,
   "metadata": {
    "collapsed": false
   },
   "outputs": [
    {
     "data": {
      "text/plain": [
       "397"
      ]
     },
     "execution_count": 35,
     "metadata": {},
     "output_type": "execute_result"
    }
   ],
   "source": [
    "len(biglist)"
   ]
  },
  {
   "cell_type": "code",
   "execution_count": 36,
   "metadata": {
    "collapsed": false
   },
   "outputs": [],
   "source": [
    "with open('data.txt', 'w') as outfile:\n",
    "    json.dump(biglist, outfile)"
   ]
  }
 ],
 "metadata": {
  "anaconda-cloud": {},
  "kernelspec": {
   "display_name": "Python [conda root]",
   "language": "python",
   "name": "conda-root-py"
  },
  "language_info": {
   "codemirror_mode": {
    "name": "ipython",
    "version": 2
   },
   "file_extension": ".py",
   "mimetype": "text/x-python",
   "name": "python",
   "nbconvert_exporter": "python",
   "pygments_lexer": "ipython2",
   "version": "2.7.12"
  }
 },
 "nbformat": 4,
 "nbformat_minor": 1
}
